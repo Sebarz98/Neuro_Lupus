{
 "cells": [
  {
   "cell_type": "code",
   "execution_count": null,
   "id": "cf59ac5f",
   "metadata": {},
   "outputs": [],
   "source": [
    "import pandas as pd\n",
    "import numpy as np\n",
    "import statsmodels.api as sm\n",
    "from sklearn.linear_model import LinearRegression\n",
    "import matplotlib.pyplot as plt\n",
    "import seaborn as sns"
   ]
  },
  {
   "cell_type": "markdown",
   "id": "214eb9aa",
   "metadata": {},
   "source": [
    "## Load and Clean Data"
   ]
  },
  {
   "cell_type": "code",
   "execution_count": null,
   "id": "467fb805",
   "metadata": {},
   "outputs": [],
   "source": [
    "# Load Dataset\n",
    "\n",
    "file_path = \"/Users/Sebastiano/SLE/Clinical_MRI.xlsx\"\n",
    "db = pd.read_excel(file_path)\n",
    "\n",
    "print(\"N° of patients: {}\".format(len(db)))\n",
    "print(\"N° of columns: {}\".format(db.shape[1]))\n",
    "db.head()"
   ]
  },
  {
   "cell_type": "code",
   "execution_count": null,
   "id": "96bb2bb9",
   "metadata": {},
   "outputs": [],
   "source": [
    "# Drop unwanted columns\n",
    "\n",
    "df = db.drop(['Patient','Date of Birth', 'Gender', 'Education', 'Age'], axis = 'columns')\n",
    "# drop columns that include \"%\" in their name\n",
    "#cols_to_drop = [col for col in df.columns if \"%\" in col]\n",
    "#df = df.drop(columns=cols_to_drop)\n",
    "print(\"Effective features to consider: {} \".format(len(df.columns)-1))"
   ]
  },
  {
   "cell_type": "code",
   "execution_count": null,
   "id": "9a467cd5",
   "metadata": {},
   "outputs": [],
   "source": [
    "# 0 = No Event\n",
    "df.loc[df['NP-SLE']== 0, 'result'] = 0\n",
    "\n",
    "# 1 = NP Event\n",
    "df.loc[df['NP-SLE'] ==1, 'result'] = 1"
   ]
  },
  {
   "cell_type": "code",
   "execution_count": null,
   "id": "3fc847a0",
   "metadata": {},
   "outputs": [],
   "source": [
    "df.drop(['NP-SLE'], axis = 'columns')\n",
    "df.head()"
   ]
  },
  {
   "cell_type": "code",
   "execution_count": null,
   "id": "0e4f3157",
   "metadata": {},
   "outputs": [],
   "source": [
    "## transform columns with high skewness.\n",
    "\n",
    "# Identify columns with high skewness\n",
    "high_skew_cols = skewness[abs(skewness) > 1].index.tolist()\n",
    "print('-------------------')\n",
    "print('High skewness columns:')\n",
    "print(high_skew_cols)\n",
    "\n",
    "# Apply log transformation to high skewness columns\n",
    "for col in high_skew_cols:\n",
    "    df[col] = np.log1p(df[col])"
   ]
  },
  {
   "cell_type": "code",
   "execution_count": null,
   "id": "6cfdfd0a",
   "metadata": {},
   "outputs": [],
   "source": [
    "# One Hot Encoding for Scores, Antiplatelets and Coagulants, Therapy, NP Event\n",
    "\n",
    "from sklearn.preprocessing import OneHotEncoder\n",
    "\n",
    "categ = ['Antiplatelet', 'Anticoagulant', 'Antimalarial', 'Immunosuppressant', 'Biologic']\n",
    "ohe = OneHotEncoder(categories='auto',sparse=False)\n",
    "df_enc = ohe.fit_transform(df[categ])\n",
    "df_enc = pd.DataFrame(df_enc,columns=ohe.get_feature_names_out(categ))\n",
    "df = pd.concat([df, df_enc], axis=1)\n",
    "df = df.drop(categ, axis=1)\n",
    "df.head()"
   ]
  },
  {
   "cell_type": "markdown",
   "id": "4ee928a9",
   "metadata": {},
   "source": [
    "## Regression Analysis"
   ]
  },
  {
   "cell_type": "code",
   "execution_count": null,
   "id": "0d37ce55",
   "metadata": {},
   "outputs": [],
   "source": []
  },
  {
   "cell_type": "code",
   "execution_count": null,
   "id": "9237f1e2",
   "metadata": {},
   "outputs": [],
   "source": [
    "from sklearn.linear_model import Ridge\n",
    "from sklearn.model_selection import train_test_split\n",
    "from sklearn.metrics import mean_squared_error\n",
    "from sklearn.preprocessing import StandardScaler\n",
    "import numpy as np\n",
    "\n",
    "# load data\n",
    "X, y = load_data()\n",
    "\n",
    "# split data into training and testing sets\n",
    "X_train, X_test, y_train, y_test = train_test_split(X, y, test_size=0.2, random_state=42)\n",
    "\n",
    "# standardize data\n",
    "scaler = StandardScaler()\n",
    "X_train = scaler.fit_transform(X_train)\n",
    "X_test = scaler.transform(X_test)\n",
    "\n",
    "# fit ridge regression model\n",
    "alpha = 0.5 # regularization parameter\n",
    "ridge = Ridge(alpha=alpha)\n",
    "ridge.fit(X_train, y_train)\n",
    "\n",
    "# evaluate model on test set\n",
    "y_pred = ridge.predict(X_test)\n",
    "mse = mean_squared_error(y_test, y_pred)\n",
    "rmse = np.sqrt(mse)\n",
    "print(\"RMSE:\", rmse)\n"
   ]
  },
  {
   "cell_type": "code",
   "execution_count": null,
   "id": "5aad981d",
   "metadata": {},
   "outputs": [],
   "source": [
    "from sklearn.linear_model import Ridge\n",
    "from sklearn.model_selection import GridSearchCV\n",
    "from sklearn.metrics import mean_squared_error\n",
    "\n",
    "# define the range of alpha values to test\n",
    "alpha_range = [0.01, 0.1, 1, 10, 100]\n",
    "\n",
    "# create a Ridge regression object\n",
    "ridge = Ridge()\n",
    "\n",
    "# set up the parameter grid to search over\n",
    "param_grid = {'alpha': alpha_range}\n",
    "\n",
    "# perform grid search with 5-fold cross-validation\n",
    "grid = GridSearchCV(ridge, param_grid, cv=5)\n",
    "\n",
    "# fit the grid search object to the data\n",
    "grid.fit(X_train, y_train)\n",
    "\n",
    "# print the best value of alpha found by grid search\n",
    "print(\"Best alpha value found:\", grid.best_params_['alpha'])\n",
    "\n",
    "# evaluate the performance of the best model on the test set\n",
    "best_model = grid.best_estimator_\n",
    "y_pred = best_model.predict(X_test)\n",
    "mse = mean_squared_error(y_test, y_pred)\n",
    "print(\"Test set MSE:\", mse)\n"
   ]
  }
 ],
 "metadata": {
  "kernelspec": {
   "display_name": "Python 3 (ipykernel)",
   "language": "python",
   "name": "python3"
  },
  "language_info": {
   "codemirror_mode": {
    "name": "ipython",
    "version": 3
   },
   "file_extension": ".py",
   "mimetype": "text/x-python",
   "name": "python",
   "nbconvert_exporter": "python",
   "pygments_lexer": "ipython3",
   "version": "3.10.10"
  }
 },
 "nbformat": 4,
 "nbformat_minor": 5
}
